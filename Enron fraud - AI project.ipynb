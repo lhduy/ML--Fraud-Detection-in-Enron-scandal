{
 "cells": [
  {
   "cell_type": "markdown",
   "metadata": {},
   "source": [
    "# Enron Fraud Indentification"
   ]
  },
  {
   "cell_type": "markdown",
   "metadata": {},
   "source": [
    "The main purpose of this project is using machine learning algorithm to detect fraudsters. Those persons are main criminals in Enron scandal. We would like to make a learning model to predict those people by using multiple variables which are reported in financial sheets and emailling list. Because we have already know person of interests (POI), we could use supervised machine learning to do this task. "
   ]
  },
  {
   "cell_type": "code",
   "execution_count": 1,
   "metadata": {
    "collapsed": true
   },
   "outputs": [],
   "source": [
    "#!/usr/bin/python\n",
    "\n",
    "import sys\n",
    "import pickle\n",
    "sys.path.append(\"../tools/\")\n",
    "import tester\n",
    "\n",
    "import tester\n",
    "from feature_format import featureFormat, targetFeatureSplit\n",
    "from tester import dump_classifier_and_data\n",
    "from sklearn.pipeline import Pipeline\n",
    "from sklearn.decomposition import PCA\n",
    "import matplotlib.pyplot as plt\n",
    "from time import time\n",
    "from sklearn.cross_validation import train_test_split\n",
    "from sklearn import linear_model\n",
    "import pandas as pd\n",
    "import numpy as np\n",
    "from sklearn.metrics import classification_report\n",
    "from tabulate import tabulate\n",
    "import seaborn as sns\n",
    "\n",
    "from sklearn.preprocessing import MinMaxScaler\n",
    "from sklearn.preprocessing import StandardScaler\n",
    "from sklearn.feature_selection import SelectKBest\n",
    "from sklearn.feature_selection import chi2\n",
    "\n",
    "from sklearn.grid_search import GridSearchCV\n",
    "from sklearn.cross_validation import StratifiedShuffleSplit\n",
    "\n",
    "from sklearn.naive_bayes import GaussianNB\n",
    "from sklearn.svm import SVC\n",
    "from sklearn.tree import DecisionTreeClassifier\n",
    "from sklearn.neighbors import KNeighborsClassifier\n",
    "from sklearn.ensemble import RandomForestClassifier\n",
    "from sklearn.ensemble import AdaBoostClassifier\n",
    "from sklearn.ensemble import GradientBoostingClassifier  #GBM algorithm\n",
    "from sklearn.linear_model import LogisticRegression\n",
    "from xgboost.sklearn import XGBClassifier\n",
    "import xgboost as xgb\n",
    "\n",
    "%matplotlib inline "
   ]
  },
  {
   "cell_type": "markdown",
   "metadata": {},
   "source": [
    "## 1. Dataset Exploration"
   ]
  },
  {
   "cell_type": "code",
   "execution_count": 2,
   "metadata": {
    "collapsed": true
   },
   "outputs": [],
   "source": [
    "### Load the dictionary containing the dataset\n",
    "with open(\"final_project_dataset.pkl\", \"r\") as data_file:\n",
    "    data_dict = pickle.load(data_file)"
   ]
  },
  {
   "cell_type": "code",
   "execution_count": 3,
   "metadata": {
    "collapsed": false
   },
   "outputs": [],
   "source": [
    "### features_list is a list of strings, each of which is a feature name.\n",
    "### The first feature must be \"poi\".\n",
    "target_list = ['poi']\n",
    "report_list = ['salary','deferral_payments', 'total_payments',\n",
    "               'loan_advances', 'bonus', 'restricted_stock_deferred', \n",
    "               'deferred_income', 'total_stock_value', 'expenses',\n",
    "               'exercised_stock_options', 'other', 'long_term_incentive', \n",
    "               'restricted_stock', 'director_fees','to_messages',\n",
    "               'from_poi_to_this_person', 'from_messages', 'from_this_person_to_poi', \n",
    "               'shared_receipt_with_poi']\n",
    "features_list =  target_list + report_list"
   ]
  },
  {
   "cell_type": "code",
   "execution_count": 4,
   "metadata": {
    "collapsed": true
   },
   "outputs": [],
   "source": [
    "### Store to my_dataset for easy export below.\n",
    "my_dataset = data_dict\n",
    "counter = 0\n",
    "for entry in my_dataset:\n",
    "    if my_dataset[entry]['poi']:\n",
    "        counter += 1"
   ]
  },
  {
   "cell_type": "code",
   "execution_count": 5,
   "metadata": {
    "collapsed": false,
    "scrolled": true
   },
   "outputs": [
    {
     "name": "stdout",
     "output_type": "stream",
     "text": [
      "Number of data points in this dataset: 146.000000\n",
      "Number of POI in this dataset: 18.000000\n",
      "Number of feature in this dataset: 20.000000\n"
     ]
    }
   ],
   "source": [
    "print 'Number of data points in this dataset: %f' %len(my_dataset)\n",
    "print 'Number of POI in this dataset: %f' %counter\n",
    "print 'Number of feature in this dataset: %f' %len(features_list)"
   ]
  },
  {
   "cell_type": "markdown",
   "metadata": {},
   "source": [
    "There are total 18 POIs in total 146 data points. Next step will be the data auditing to determine missing values or outliers."
   ]
  },
  {
   "cell_type": "markdown",
   "metadata": {},
   "source": [
    "### Data audit"
   ]
  },
  {
   "cell_type": "code",
   "execution_count": 6,
   "metadata": {
    "collapsed": false,
    "scrolled": true
   },
   "outputs": [
    {
     "name": "stdout",
     "output_type": "stream",
     "text": [
      "                      Feature  No of Missing Values\n",
      "11              loan_advances                   142\n",
      "6               director_fees                   129\n",
      "7   restricted_stock_deferred                   128\n",
      "2           deferral_payments                   107\n",
      "15            deferred_income                    97\n",
      "18        long_term_incentive                    80\n",
      "5                       bonus                    64\n",
      "16    shared_receipt_with_poi                    60\n",
      "14    from_this_person_to_poi                    60\n",
      "1                 to_messages                    60\n",
      "10    from_poi_to_this_person                    60\n",
      "12              from_messages                    60\n",
      "13                      other                    53\n",
      "0                      salary                    51\n",
      "9                    expenses                    51\n",
      "4     exercised_stock_options                    44\n",
      "17           restricted_stock                    36\n",
      "3              total_payments                    21\n",
      "8           total_stock_value                    20\n"
     ]
    },
    {
     "name": "stderr",
     "output_type": "stream",
     "text": [
      "C:\\Anaconda2\\lib\\site-packages\\ipykernel\\__main__.py:10: FutureWarning: sort(columns=....) is deprecated, use sort_values(by=.....)\n"
     ]
    }
   ],
   "source": [
    "### Determine missing values in Enron report\n",
    "value_report_list = [0,0,0,0,0,0,0,0,0,0,0,0,0,0,0,0,0,0,0]\n",
    "dict_report_list = dict(zip(report_list,value_report_list))\n",
    "for entry in my_dataset:\n",
    "    for name in report_list:\n",
    "        val = my_dataset[entry][name]\n",
    "        if val == 'NaN':\n",
    "            dict_report_list[name] += 1\n",
    "NaN_table = pd.DataFrame(dict_report_list.items(), columns=['Feature', 'No of Missing Values'])\n",
    "print NaN_table.sort(columns = 'No of Missing Values',ascending=False)"
   ]
  },
  {
   "cell_type": "markdown",
   "metadata": {},
   "source": [
    "Through above table, every features except 'poi' has missing values at least 20 times. Top 3 features that have highest missing values are 'loan_advance', 'director_fees' and 'restricted_stock_deferred'. "
   ]
  },
  {
   "cell_type": "markdown",
   "metadata": {},
   "source": [
    "According to Enron printed sheet, I found two outlier that is \"TOTAL\" and \"THE TRAVEL AGENCY IN THE PARK\". \n",
    "- \"TOTAL\" is the summary of every column in Enron sheet and it is a spreadsheet quirk.\n",
    "- \"THE TRAVEL AGENCY IN THE PARK\" is the account of business-related travel to The Travel Agency in the Park. It is not a person of interest.\n",
    "\n",
    "Another possibility is the observation with no information (all \"NaN\" value) which will determined by the script beblow."
   ]
  },
  {
   "cell_type": "code",
   "execution_count": 7,
   "metadata": {
    "collapsed": false
   },
   "outputs": [
    {
     "name": "stdout",
     "output_type": "stream",
     "text": [
      "The outlier list is: \n",
      "['LOCKHART EUGENE E', 'TOTAL', 'THE TRAVEL AGENCY IN THE PARK']\n"
     ]
    }
   ],
   "source": [
    "outlier_list = []\n",
    "#### Next script is used to remove observation which have all value 'NaN' in Enron report. \n",
    "for entry in my_dataset:\n",
    "    for name in report_list:\n",
    "        val = my_dataset[entry][name]\n",
    "        if val == 'NaN':\n",
    "            if entry not in outlier_list:\n",
    "                outlier_list.append(entry)\n",
    "        elif val != 'NaN':\n",
    "            try:\n",
    "                outlier_list.remove(entry)\n",
    "                break\n",
    "            except ValueError:\n",
    "                break\n",
    "\n",
    "outlier_list.append('TOTAL') #insert 'TOTAL' observation\n",
    "outlier_list.append('THE TRAVEL AGENCY IN THE PARK')\n",
    "print 'The outlier list is: '\n",
    "print outlier_list"
   ]
  },
  {
   "cell_type": "markdown",
   "metadata": {},
   "source": [
    "### Remove outlier"
   ]
  },
  {
   "cell_type": "code",
   "execution_count": 8,
   "metadata": {
    "collapsed": false
   },
   "outputs": [
    {
     "name": "stdout",
     "output_type": "stream",
     "text": [
      "Number of data points after outlier removing in this dataset: 143.000000\n"
     ]
    }
   ],
   "source": [
    "#### Remove outlier\n",
    "for name in outlier_list:\n",
    "    my_dataset.pop(name,0)\n",
    "print 'Number of data points after outlier removing in this dataset: %f' %len(my_dataset)"
   ]
  },
  {
   "cell_type": "markdown",
   "metadata": {},
   "source": [
    "## 2. Feature Selection"
   ]
  },
  {
   "cell_type": "markdown",
   "metadata": {},
   "source": [
    "### Create new feature"
   ]
  },
  {
   "cell_type": "markdown",
   "metadata": {},
   "source": [
    "Through the Enron report, we have the email list of Enron POI and non-POI. It will be smart to create a new feature based on the ratio between to/from POI and to/from a person. There is a chance that they can be used in POI prediction later."
   ]
  },
  {
   "cell_type": "code",
   "execution_count": 9,
   "metadata": {
    "collapsed": false,
    "scrolled": false
   },
   "outputs": [
    {
     "name": "stdout",
     "output_type": "stream",
     "text": [
      "['poi', 'salary', 'deferral_payments', 'total_payments', 'loan_advances', 'bonus', 'restricted_stock_deferred', 'deferred_income', 'total_stock_value', 'expenses', 'exercised_stock_options', 'other', 'long_term_incentive', 'restricted_stock', 'director_fees', 'to_messages', 'from_poi_to_this_person', 'from_messages', 'from_this_person_to_poi', 'shared_receipt_with_poi', 'fraction_from_poi', 'fraction_to_poi']\n"
     ]
    }
   ],
   "source": [
    "#### Making new feature based on other features.\n",
    "def computeFraction( poi_messages, all_messages ):\n",
    "    \"\"\" given a number messages to/from POI (numerator) \n",
    "        and number of all messages to/from a person (denominator),\n",
    "        return the fraction of messages to/from that person\n",
    "        that are from/to a POI\n",
    "   \"\"\"\n",
    "   \n",
    "    ### you fill in this code, so that it returns either\n",
    "    ###     the fraction of all messages to this person that come from POIs\n",
    "    ###     or\n",
    "    ###     the fraction of all messages from this person that are sent to POIs\n",
    "    ### the same code can be used to compute either quantity\n",
    "\n",
    "    ### beware of \"NaN\" when there is no known email address (and so\n",
    "    ### no filled email features), and integer division!\n",
    "    ### in case of poi_messages or all_messages having \"NaN\" value, return 0.\n",
    "    if poi_messages == \"NaN\":\n",
    "        fraction = 0.\n",
    "    elif all_messages == \"NaN\":\n",
    "        fraction = 0.\n",
    "    else:\n",
    "        fraction = poi_messages*1.0/all_messages\n",
    "\n",
    "    return fraction\n",
    "\n",
    "for name in my_dataset:\n",
    "    data_point = my_dataset[name]\n",
    "    from_poi_to_this_person = data_point[\"from_poi_to_this_person\"]\n",
    "    to_messages = data_point[\"to_messages\"]\n",
    "    fraction_from_poi = computeFraction( from_poi_to_this_person, to_messages )\n",
    "    my_dataset[name][\"fraction_from_poi\"] = fraction_from_poi\n",
    "\n",
    "    from_this_person_to_poi = data_point[\"from_this_person_to_poi\"]\n",
    "    from_messages = data_point[\"from_messages\"]\n",
    "    fraction_to_poi = computeFraction( from_this_person_to_poi, from_messages )\n",
    "    my_dataset[name][\"fraction_to_poi\"] = fraction_to_poi\n",
    "\n",
    "### Feature list with addtional features\n",
    "features_list = features_list + ['fraction_from_poi','fraction_to_poi']\n",
    "print features_list"
   ]
  },
  {
   "cell_type": "markdown",
   "metadata": {},
   "source": [
    "### Feature selection"
   ]
  },
  {
   "cell_type": "markdown",
   "metadata": {},
   "source": [
    "In order to determine the best features for prediction, I have used 'SelectKBest' function to evaluate the importance of each features. The function was applied in training set created by 'train_test_split' function."
   ]
  },
  {
   "cell_type": "code",
   "execution_count": 10,
   "metadata": {
    "collapsed": true
   },
   "outputs": [],
   "source": [
    "data = featureFormat(my_dataset, features_list, sort_keys = True)\n",
    "labels, features = targetFeatureSplit(data)"
   ]
  },
  {
   "cell_type": "code",
   "execution_count": 11,
   "metadata": {
    "collapsed": false,
    "scrolled": false
   },
   "outputs": [
    {
     "name": "stdout",
     "output_type": "stream",
     "text": [
      "                      Feature      Score\n",
      "0     exercised_stock_options  24.815080\n",
      "1           total_stock_value  24.182899\n",
      "2                       bonus  20.792252\n",
      "3                      salary  18.289684\n",
      "4             fraction_to_poi  16.409713\n",
      "5             deferred_income  11.458477\n",
      "6         long_term_incentive   9.922186\n",
      "7            restricted_stock   9.212811\n",
      "8              total_payments   8.772778\n",
      "9     shared_receipt_with_poi   8.589421\n",
      "10              loan_advances   7.184056\n",
      "11                   expenses   6.094173\n",
      "12    from_poi_to_this_person   5.243450\n",
      "13                      other   4.187478\n",
      "14          fraction_from_poi   3.128092\n",
      "15    from_this_person_to_poi   2.382612\n",
      "16              director_fees   2.126328\n",
      "17                to_messages   1.646341\n",
      "18          deferral_payments   0.224611\n",
      "19              from_messages   0.169701\n",
      "20  restricted_stock_deferred   0.065500\n"
     ]
    }
   ],
   "source": [
    "### Using SelectKBest to determine number of selection feature.\n",
    "SKB = SelectKBest()\n",
    "SKB.fit(features,labels)\n",
    "scores = SKB.scores_\n",
    "unsorted_pairs = zip(features_list[1:], scores)\n",
    "sorted_pairs = list(reversed(sorted(unsorted_pairs, key=lambda x: x[1])))\n",
    "KBest_table = pd.DataFrame(sorted_pairs,columns=['Feature','Score'])\n",
    "print KBest_table"
   ]
  },
  {
   "cell_type": "code",
   "execution_count": 12,
   "metadata": {
    "collapsed": false
   },
   "outputs": [
    {
     "data": {
      "image/png": "[encoded data removed]",
      "text/plain": [
       "<matplotlib.figure.Figure at 0xc61add8>"
      ]
     },
     "metadata": {},
     "output_type": "display_data"
    }
   ],
   "source": [
    "sns.barplot(KBest_table['Feature'],KBest_table['Score'])\n",
    "_, labels = plt.xticks()\n",
    "plt.setp(labels, rotation=90)\n",
    "plt.ylabel('SKBest score')\n",
    "plt.title('Classifier')\n",
    "plt.show()"
   ]
  },
  {
   "cell_type": "markdown",
   "metadata": {},
   "source": [
    "According to the result of SelectKBest, I selected 6 features of interest since they have highest impact for the model fitting (score > 10). Clearly, we see that our new feature \"fraction_to_poi\" has high impact on the data model when it is at top 5th. Would this enginereed variable affect the validation of POIs in classifer ? To answer this question, I made an classifer testing with two feature lists: original list (without 'fraction_to_poi') and engineered list (with 'fraction_to_poi')."
   ]
  },
  {
   "cell_type": "code",
   "execution_count": 13,
   "metadata": {
    "collapsed": false
   },
   "outputs": [
    {
     "name": "stdout",
     "output_type": "stream",
     "text": [
      "['poi', 'exercised_stock_options', 'total_stock_value', 'bonus', 'salary', 'deferred_income']\n",
      "             precision    recall  f1-score   support\n",
      "\n",
      "        0.0       0.95      0.95      0.95        39\n",
      "        1.0       0.33      0.33      0.33         3\n",
      "\n",
      "avg / total       0.90      0.90      0.90        42\n",
      "\n"
     ]
    }
   ],
   "source": [
    "### Validate the original feature list in Naive Bayes classifier\n",
    "old_features_list = target_list + list(KBest_table['Feature'].iloc[:6])\n",
    "old_features_list.remove('fraction_to_poi')\n",
    "print old_features_list\n",
    "# Re-create the data for model fitting\n",
    "data = featureFormat(my_dataset, old_features_list, sort_keys = True)\n",
    "labels, features = targetFeatureSplit(data)\n",
    "# Example starting point. Create train and test set from original dataset. 30% of data goes into test set.\n",
    "features_train, features_test, labels_train, labels_test = \\\n",
    "    train_test_split(features, labels, test_size=0.3, random_state=42)\n",
    "    \n",
    "clf_NB = GaussianNB()\n",
    "clf_NB.fit(features_train,labels_train)\n",
    "labels_pred = clf_NB.predict(features_test)\n",
    "print classification_report(labels_test, labels_pred)"
   ]
  },
  {
   "cell_type": "code",
   "execution_count": 14,
   "metadata": {
    "collapsed": false,
    "scrolled": true
   },
   "outputs": [
    {
     "name": "stdout",
     "output_type": "stream",
     "text": [
      "['poi', 'exercised_stock_options', 'total_stock_value', 'bonus', 'salary', 'fraction_to_poi', 'deferred_income']\n",
      "             precision    recall  f1-score   support\n",
      "\n",
      "        0.0       0.92      0.94      0.93        36\n",
      "        1.0       0.60      0.50      0.55         6\n",
      "\n",
      "avg / total       0.87      0.88      0.88        42\n",
      "\n"
     ]
    }
   ],
   "source": [
    "### Validate the engineered feature list in Naive Bayes classifier\n",
    "new_features_list = target_list + list(KBest_table['Feature'].iloc[:6])\n",
    "print new_features_list\n",
    "# Re-create the data for model fitting\n",
    "data = featureFormat(my_dataset, new_features_list, sort_keys = True)\n",
    "labels, features = targetFeatureSplit(data)\n",
    "# Example starting point. Create train and test set from original dataset. 30% of data goes into test set.\n",
    "features_train, features_test, labels_train, labels_test = \\\n",
    "    train_test_split(features, labels, test_size=0.3, random_state=42)\n",
    "    \n",
    "clf_NB = GaussianNB()\n",
    "clf_NB.fit(features_train,labels_train)\n",
    "labels_pred = clf_NB.predict(features_test)\n",
    "print classification_report(labels_test, labels_pred)"
   ]
  },
  {
   "cell_type": "markdown",
   "metadata": {},
   "source": [
    "The precision and recall scores of my engineered list is higher than original list in POI detection (class 1). So I suggested to include 'fraction_to_poi' in feature set used for further investigation."
   ]
  },
  {
   "cell_type": "code",
   "execution_count": 15,
   "metadata": {
    "collapsed": false
   },
   "outputs": [
    {
     "name": "stdout",
     "output_type": "stream",
     "text": [
      "Name               Precision    Recall\n",
      "---------------  -----------  --------\n",
      "Original List           0.33      0.33\n",
      "Engineered list         0.6       0.5\n"
     ]
    }
   ],
   "source": [
    "print tabulate([['Original List', 0.33, 0.33], ['Engineered list', 0.60, 0.50]], headers=['Name', 'Precision','Recall'])"
   ]
  },
  {
   "cell_type": "code",
   "execution_count": 16,
   "metadata": {
    "collapsed": false
   },
   "outputs": [],
   "source": [
    "data = featureFormat(my_dataset, new_features_list, sort_keys = True)\n",
    "labels, features = targetFeatureSplit(data)\n",
    "# Example starting point. Create train and test set from original dataset. 30% of data goes into test set.\n",
    "features_train, features_test, labels_train, labels_test = \\\n",
    "    train_test_split(features, labels, test_size=0.3, random_state=42)"
   ]
  },
  {
   "cell_type": "code",
   "execution_count": 17,
   "metadata": {
    "collapsed": false,
    "scrolled": true
   },
   "outputs": [],
   "source": [
    "#### Reshape the training and test sets.\n",
    "features_train = np.array(features_train)\n",
    "labels_train = np.array(labels_train)\n",
    "features_test = np.array(features_test)\n",
    "labels_test = np.array(labels_test)"
   ]
  },
  {
   "cell_type": "markdown",
   "metadata": {},
   "source": [
    "## 3. Evaluation of classifiers"
   ]
  },
  {
   "cell_type": "markdown",
   "metadata": {},
   "source": [
    "There are many classifiers for classification. For the purpose of this porject and time saving, I only picked 6 common models for data fitting. I created pipeline that includes Scaling, Feature Selection, Principle Component Analysis (PCA) and Classifiers. I had to use feature scaling because some model need that processing.\n",
    "\n",
    "Through running defaut model with 6 features of interest, their 'f1' scores were compared after running 'tester.py' . The reason for chosing 'f1' because it is the weighted average of Precision and Recall."
   ]
  },
  {
   "cell_type": "code",
   "execution_count": 18,
   "metadata": {
    "collapsed": false,
    "scrolled": false
   },
   "outputs": [
    {
     "name": "stdout",
     "output_type": "stream",
     "text": [
      "\t\n",
      "Naive Bayes\n",
      "Fit to training dataset\n",
      "             precision    recall  f1-score   support\n",
      "\n",
      "        0.0       0.92      0.92      0.92        36\n",
      "        1.0       0.50      0.50      0.50         6\n",
      "\n",
      "avg / total       0.86      0.86      0.86        42\n",
      "\n",
      "\t\n",
      "Test on tester.py\n",
      "Pipeline(steps=[('scaler', MinMaxScaler(copy=True, feature_range=(0, 1))), ('SKB', SelectKBest(k=6, score_func=<function f_classif at 0x0000000007B63F98>)), ('CLF', GaussianNB())])\n",
      "\tAccuracy: 0.85236\tPrecision: 0.47723\tRecall: 0.35100\tF1: 0.40449\tF2: 0.37061\n",
      "\tTotal predictions: 14000\tTrue positives:  702\tFalse positives:  769\tFalse negatives: 1298\tTrue negatives: 11231\n",
      "\n",
      "None\n",
      "done in 2.235s\n",
      "\t\n",
      "Support Vector Machine\n",
      "Fit to training dataset\n",
      "             precision    recall  f1-score   support\n",
      "\n",
      "        0.0       0.86      1.00      0.92        36\n",
      "        1.0       0.00      0.00      0.00         6\n",
      "\n",
      "avg / total       0.73      0.86      0.79        42\n",
      "\n",
      "\t\n",
      "Test on tester.py\n"
     ]
    },
    {
     "name": "stderr",
     "output_type": "stream",
     "text": [
      "C:\\Anaconda2\\lib\\site-packages\\sklearn\\metrics\\classification.py:1074: UndefinedMetricWarning: Precision and F-score are ill-defined and being set to 0.0 in labels with no predicted samples.\n",
      "  'precision', 'predicted', average, warn_for)\n"
     ]
    },
    {
     "name": "stdout",
     "output_type": "stream",
     "text": [
      "Got a divide by zero when trying out: Pipeline(steps=[('scaler', MinMaxScaler(copy=True, feature_range=(0, 1))), ('SKB', SelectKBest(k=6, score_func=<function f_classif at 0x0000000007B63F98>)), ('CLF', SVC(C=1.0, cache_size=200, class_weight=None, coef0=0.0,\n",
      "  decision_function_shape=None, degree=3, gamma='auto', kernel='rbf',\n",
      "  max_iter=-1, probability=False, random_state=None, shrinking=True,\n",
      "  tol=0.001, verbose=False))])\n",
      "Precision or recall may be undefined due to a lack of true positive predicitons.\n",
      "None\n",
      "done in 2.101s\n",
      "\t\n",
      "Decision Tree\n",
      "Fit to training dataset\n",
      "             precision    recall  f1-score   support\n",
      "\n",
      "        0.0       0.91      0.89      0.90        36\n",
      "        1.0       0.43      0.50      0.46         6\n",
      "\n",
      "avg / total       0.84      0.83      0.84        42\n",
      "\n",
      "\t\n",
      "Test on tester.py\n",
      "Pipeline(steps=[('scaler', MinMaxScaler(copy=True, feature_range=(0, 1))), ('SKB', SelectKBest(k=6, score_func=<function f_classif at 0x0000000007B63F98>)), ('CLF', DecisionTreeClassifier(class_weight=None, criterion='gini', max_depth=None,\n",
      "            max_features=None, max_leaf_nodes=None, min_samples_leaf=1,\n",
      "            min_samples_split=2, min_weight_fraction_leaf=0.0,\n",
      "            presort=False, random_state=None, splitter='best'))])\n",
      "\tAccuracy: 0.79071\tPrecision: 0.26912\tRecall: 0.27100\tF1: 0.27005\tF2: 0.27062\n",
      "\tTotal predictions: 14000\tTrue positives:  542\tFalse positives: 1472\tFalse negatives: 1458\tTrue negatives: 10528\n",
      "\n",
      "None\n",
      "done in 2.007s\n",
      "\t\n",
      "KNN\n",
      "Fit to training dataset\n",
      "             precision    recall  f1-score   support\n",
      "\n",
      "        0.0       0.85      0.94      0.89        36\n",
      "        1.0       0.00      0.00      0.00         6\n",
      "\n",
      "avg / total       0.73      0.81      0.77        42\n",
      "\n",
      "\t\n",
      "Test on tester.py\n",
      "Pipeline(steps=[('scaler', MinMaxScaler(copy=True, feature_range=(0, 1))), ('SKB', SelectKBest(k=6, score_func=<function f_classif at 0x0000000007B63F98>)), ('CLF', KNeighborsClassifier(algorithm='auto', leaf_size=30, metric='minkowski',\n",
      "           metric_params=None, n_jobs=1, n_neighbors=5, p=2,\n",
      "           weights='uniform'))])\n",
      "\tAccuracy: 0.83514\tPrecision: 0.23448\tRecall: 0.06800\tF1: 0.10543\tF2: 0.07925\n",
      "\tTotal predictions: 14000\tTrue positives:  136\tFalse positives:  444\tFalse negatives: 1864\tTrue negatives: 11556\n",
      "\n",
      "None\n",
      "done in 2.417s\n",
      "\t\n",
      "RandomForest\n",
      "Fit to training dataset\n",
      "             precision    recall  f1-score   support\n",
      "\n",
      "        0.0       0.89      0.92      0.90        36\n",
      "        1.0       0.40      0.33      0.36         6\n",
      "\n",
      "avg / total       0.82      0.83      0.83        42\n",
      "\n",
      "\t\n",
      "Test on tester.py\n",
      "Pipeline(steps=[('scaler', MinMaxScaler(copy=True, feature_range=(0, 1))), ('SKB', SelectKBest(k=6, score_func=<function f_classif at 0x0000000007B63F98>)), ('CLF', RandomForestClassifier(bootstrap=True, class_weight=None, criterion='gini',\n",
      "            max_depth=None, max_features='auto', max_leaf_nodes=None...n_jobs=1,\n",
      "            oob_score=False, random_state=None, verbose=0,\n",
      "            warm_start=False))])\n",
      "\tAccuracy: 0.85629\tPrecision: 0.49239\tRecall: 0.19400\tF1: 0.27834\tF2: 0.22076\n",
      "\tTotal predictions: 14000\tTrue positives:  388\tFalse positives:  400\tFalse negatives: 1612\tTrue negatives: 11600\n",
      "\n",
      "None\n",
      "done in 27.533s\n",
      "\t\n",
      "AdaBoost\n",
      "Fit to training dataset\n",
      "             precision    recall  f1-score   support\n",
      "\n",
      "        0.0       0.92      0.92      0.92        36\n",
      "        1.0       0.50      0.50      0.50         6\n",
      "\n",
      "avg / total       0.86      0.86      0.86        42\n",
      "\n",
      "\t\n",
      "Test on tester.py\n",
      "Pipeline(steps=[('scaler', MinMaxScaler(copy=True, feature_range=(0, 1))), ('SKB', SelectKBest(k=6, score_func=<function f_classif at 0x0000000007B63F98>)), ('CLF', AdaBoostClassifier(algorithm='SAMME.R', base_estimator=None,\n",
      "          learning_rate=1.0, n_estimators=50, random_state=None))])\n",
      "\tAccuracy: 0.82414\tPrecision: 0.35154\tRecall: 0.27350\tF1: 0.30765\tF2: 0.28621\n",
      "\tTotal predictions: 14000\tTrue positives:  547\tFalse positives: 1009\tFalse negatives: 1453\tTrue negatives: 10991\n",
      "\n",
      "None\n",
      "done in 118.370s\n"
     ]
    }
   ],
   "source": [
    "### Try a varity of classifiers\n",
    "### Please name your classifier clf for easy export below.\n",
    "### Note that if you want to do PCA or other multi-stage operations,\n",
    "### you'll need to use Pipelines. For more info:\n",
    "### http://scikit-learn.org/stable/modules/pipeline.html\n",
    "\n",
    "#### Checking the final result with all ML that are used for classification:\n",
    "#### Using GridSearchCV to optimize number of features + SelectKBest\n",
    "#### Create cross-validation  \n",
    "sss = StratifiedShuffleSplit(labels_train, 50, test_size = 0.3, random_state = 42)\n",
    "mm_scaler = MinMaxScaler()\n",
    "\n",
    "name_list = ['Naive Bayes',\n",
    "             'Support Vector Machine',\n",
    "             'Decision Tree',\n",
    "             'KNN',\n",
    "             'RandomForest','AdaBoost'\n",
    "            ]\n",
    "clf_list = [GaussianNB(),\n",
    "            SVC(),\n",
    "            DecisionTreeClassifier(),\n",
    "            KNeighborsClassifier(),\n",
    "            RandomForestClassifier(),\n",
    "            AdaBoostClassifier()\n",
    "           ]\n",
    "\n",
    "for name, clf in zip(name_list,clf_list):\n",
    "    t0 = time() \n",
    "    pipe = Pipeline(steps =[('scaler',mm_scaler),('SKB',SelectKBest(k = 6)),('CLF',clf)])\n",
    "    pipe.fit(features_train,labels_train)\n",
    "    labels_pred = pipe.predict(features_test)\n",
    "    clf_final = pipe\n",
    "    #clf_final = pipe\n",
    "    print '\\t'\n",
    "    print name\n",
    "    print 'Fit to training dataset'\n",
    "    print classification_report(labels_test, labels_pred)    \n",
    "    print '\\t'\n",
    "    print 'Test on tester.py'\n",
    "    f1 = tester.test_classifier(clf_final, my_dataset, new_features_list)\n",
    "    print f1\n",
    "    print \"done in %0.3fs\" % (time() - t0)"
   ]
  },
  {
   "cell_type": "markdown",
   "metadata": {},
   "source": [
    "### Visualization of F1 scores"
   ]
  },
  {
   "cell_type": "code",
   "execution_count": 19,
   "metadata": {
    "collapsed": false
   },
   "outputs": [
    {
     "data": {
      "image/png": "[encoded data removed]",
      "text/plain": [
       "<matplotlib.figure.Figure at 0xc7c05f8>"
      ]
     },
     "metadata": {},
     "output_type": "display_data"
    }
   ],
   "source": [
    "### Create array for f1\n",
    "f1_score = [0.40449,0.0,0.27005,0.10543,0.27834,0.30765]\n",
    "\n",
    "name_list = ('Naive Bayes','Support Vector Machine',\n",
    "             'Decision Tree','K-NN',\n",
    "             'RandomForest','AdaBoost')\n",
    "\n",
    "plt.bar(np.arange(len(name_list)),f1_score,align='center', color = 'rgbkymc',alpha = 0.5)\n",
    "plt.xticks(np.arange(len(name_list)), name_list, rotation = 90)\n",
    "plt.ylabel('F1 score')\n",
    "plt.title('Classifier')\n",
    "plt.show()"
   ]
  },
  {
   "cell_type": "markdown",
   "metadata": {},
   "source": [
    "I found that Naive Bayes model had the highest F1-score. I decided to select Naive Bayes and Decision Tree for my model optimization. The final model is the one which highest F1 after parameter tuning."
   ]
  },
  {
   "cell_type": "markdown",
   "metadata": {},
   "source": [
    "## 4. Model optimization"
   ]
  },
  {
   "cell_type": "markdown",
   "metadata": {},
   "source": [
    "The objective of this task is trying to optimize model fitting in order to obtain at least 0.3 in both precision and recall using testing script. \n",
    "\n",
    "The strategy for tuning is using GridSearchCV to optimize parameters from each models and apply cross-validation to determine the best F1 score."
   ]
  },
  {
   "cell_type": "markdown",
   "metadata": {},
   "source": [
    "### 4.1 Naive Bayes"
   ]
  },
  {
   "cell_type": "markdown",
   "metadata": {},
   "source": [
    "My strategy is to optimize:\n",
    "- The number of features: SelectKBest(k = 5,6)\n",
    "- The number of components: PCA(n_components = 2,3,4)"
   ]
  },
  {
   "cell_type": "code",
   "execution_count": 20,
   "metadata": {
    "collapsed": false
   },
   "outputs": [],
   "source": [
    "### Create cross-validation\n",
    "sss = StratifiedShuffleSplit(labels, 50, random_state = 42)"
   ]
  },
  {
   "cell_type": "code",
   "execution_count": 21,
   "metadata": {
    "collapsed": false,
    "scrolled": true
   },
   "outputs": [
    {
     "name": "stderr",
     "output_type": "stream",
     "text": [
      "C:\\Anaconda2\\lib\\site-packages\\sklearn\\metrics\\classification.py:1074: UndefinedMetricWarning: F-score is ill-defined and being set to 0.0 due to no predicted samples.\n",
      "  'precision', 'predicted', average, warn_for)\n"
     ]
    },
    {
     "name": "stdout",
     "output_type": "stream",
     "text": [
      "Pipeline(steps=[('scale', MinMaxScaler(copy=True, feature_range=(0, 1))), ('SKB', SelectKBest(k=6, score_func=<function f_classif at 0x0000000007B63F98>)), ('PCA', PCA(copy=True, n_components=4, whiten=False)), ('NB', GaussianNB())])\n",
      "\tAccuracy: 0.85564\tPrecision: 0.49256\tRecall: 0.34750\tF1: 0.40751\tF2: 0.36925\n",
      "\tTotal predictions: 14000\tTrue positives:  695\tFalse positives:  716\tFalse negatives: 1305\tTrue negatives: 11284\n",
      "\n",
      "done in 5.306s\n"
     ]
    }
   ],
   "source": [
    "t0 = time()\n",
    "# PCA\n",
    "pca = PCA()\n",
    "#Pipeline\n",
    "pipeline = Pipeline([('scale',mm_scaler),('SKB',SelectKBest()),('PCA',PCA()),('NB', GaussianNB())])\n",
    "# clf's parameters\n",
    "parameters = {'SKB__k':[5,6],\n",
    "              'PCA__n_components':[2,3,4]\n",
    "             }\n",
    "#GridSearchCV\n",
    "gs = GridSearchCV(pipeline, parameters, cv=sss, scoring='f1')\n",
    "gs.fit(features, labels)\n",
    "\n",
    "clf_NB = gs.best_estimator_\n",
    "tester.test_classifier(clf_NB, my_dataset, new_features_list)\n",
    "print \"done in %0.3fs\" % (time() - t0)"
   ]
  },
  {
   "cell_type": "markdown",
   "metadata": {},
   "source": [
    "### 4.2 Decision Tree"
   ]
  },
  {
   "cell_type": "markdown",
   "metadata": {},
   "source": [
    "In this classifier, there are many parameters that I could tune. Because of heavy computation, I selected ony 5 parameters: criterion, splitter, min_samples_split, max_depth, max_leaf_nodes. Those parameters will be put in the cross-validation with feature selection and component analysis."
   ]
  },
  {
   "cell_type": "code",
   "execution_count": 22,
   "metadata": {
    "collapsed": false,
    "scrolled": true
   },
   "outputs": [
    {
     "name": "stdout",
     "output_type": "stream",
     "text": [
      "Pipeline(steps=[('scale', MinMaxScaler(copy=True, feature_range=(0, 1))), ('SKB', SelectKBest(k=5, score_func=<function f_classif at 0x0000000007B63F98>)), ('PCA', PCA(copy=True, n_components=2, whiten=False)), ('DT', DecisionTreeClassifier(class_weight=None, criterion='entropy', max_depth=25,\n",
      "            max_features=None, max_leaf_nodes=30, min_samples_leaf=1,\n",
      "            min_samples_split=2, min_weight_fraction_leaf=0.0,\n",
      "            presort=False, random_state=None, splitter='best'))])\n",
      "\tAccuracy: 0.82007\tPrecision: 0.35639\tRecall: 0.32200\tF1: 0.33832\tF2: 0.32834\n",
      "\tTotal predictions: 14000\tTrue positives:  644\tFalse positives: 1163\tFalse negatives: 1356\tTrue negatives: 10837\n",
      "\n",
      "done in 669.987s\n"
     ]
    }
   ],
   "source": [
    "t0 = time()\n",
    "# PCA\n",
    "pca = PCA()\n",
    "#Pipeline\n",
    "pipeline = Pipeline([('scale',mm_scaler),('SKB',SelectKBest()),('PCA',PCA()),('DT', DecisionTreeClassifier())])\n",
    "# clf's parameters\n",
    "parameters = {'DT__criterion': ['gini','entropy'],\n",
    "              'DT__splitter':['best','random'],\n",
    "              'DT__min_samples_split':[2,10,20],\n",
    "              'DT__max_depth':[10,15,20,25,30],\n",
    "              'DT__max_leaf_nodes':[5,10,30],\n",
    "              'SKB__k':[5,6],\n",
    "              'PCA__n_components':[2,3,4]}\n",
    "#GridSearchCV\n",
    "gs = GridSearchCV(pipeline, parameters, cv=sss, scoring='f1')\n",
    "gs.fit(features, labels)\n",
    "\n",
    "clf_DT = gs.best_estimator_\n",
    "tester.test_classifier(clf_DT, my_dataset, new_features_list)\n",
    "print \"done in %0.3fs\" % (time() - t0)"
   ]
  },
  {
   "cell_type": "markdown",
   "metadata": {},
   "source": [
    "### 4.3 Discussion"
   ]
  },
  {
   "cell_type": "markdown",
   "metadata": {},
   "source": [
    "In this section, I tried to to make an machine system that can built the best model from data. In machine system, chosen learning algorithm goes with multiple parameters. All those parameters will effect the quality of data models. However, it is not easy to find the correct values of those parameters. Thus, tuning is one of the most important in machine learning. This step will help us to obtain optimal values to complete learning task in the best way as possible. The \"best\" of those values is dependent on our criteria. For instance, I mainly tuned parameters of Naive Bayes and Decision Tree models to obtain at least 0.3 in both precision and recall in this project. \n",
    "\n",
    "In two final results, Naive Bayes provide better score of precision and recall. It is logical since the Enron dataset is pretty small so simpler model will be easily fit. In conclusion, Naive Bayes model is my final model for this Enron fraud classification."
   ]
  },
  {
   "cell_type": "code",
   "execution_count": 23,
   "metadata": {
    "collapsed": true
   },
   "outputs": [],
   "source": [
    "clf = clf_NB\n",
    "dump_classifier_and_data(clf, my_dataset, new_features_list)"
   ]
  },
  {
   "cell_type": "markdown",
   "metadata": {},
   "source": [
    "## 5. Validation and Evaluation"
   ]
  },
  {
   "cell_type": "markdown",
   "metadata": {},
   "source": [
    "The main purpose of this project is to identify the best learning model for Enron dataset. From previous analysis, there are more than one approach to build that model. In learning approach, one of process is parameter tuning. The \"best\" choice of parameters requires validation. Validation estimates how well my model has been trained. Validation includes splitting Enron data into multiple train/test sets. This step is essential because it limits problem such as data overfitting or underfitting. In this project, I have used \"train_test_split\" and \"StratifiedShuffleSplit\" for re-sample Enron data. \"TrainTestSplit\" created small dataset to choose the appropriate classifiers. \"StratifiedShuffleSplit\" was used for cross-validation of optimal parameters.\n",
    "\n",
    "Instead of using simpler cross-validation methods, I picked \"StratifiedShuffleSplit\" for my final learning algorithm. Enron dataset is quite small so \"StratifiedShuffleSplit\" allows to create randomly multiple training and test sets then averages the results over all the tests. Moreover, Enrone dataset has unbalanced classes where number of POIs is greatly smaller than number of non-POIs. \"StratifiedShuffleSplit\" makes sure the ratio of POI/non-POIs is the same in the training and test sets as it was in the larger dataset. \n",
    "\n",
    "I used precision and recall to estimate my model properties. The precision measures a classifiers exactness and the recall measures a classifiers completeness. In small and unbalanced like Enron dataset, both of them are more important than accuracy. If validation is not good, my model will fall in high level of error type I and II. We always want to have high chance to catch criminal but ignore innocent person.\n",
    "\n",
    "The good estimators for my Enron classification model is the one which has the score of precision and recall above 0.3. \n",
    "\n"
   ]
  },
  {
   "cell_type": "markdown",
   "metadata": {},
   "source": [
    "## 6. Conclusion\n",
    "\n",
    "This Enron dataset is an unbalaned data where POIs is greatly samller than non-POIs. There are 3 outliers and many of missing values in each features of data point. I have removed all of outliers and replaced missing values by '0' during data auditing.\n",
    "\n",
    "On the other hands, I optimized Feature Selection by creating two new features: \"fraction_to_poi\" and \"fraction_from_poi\". According to the impact scores, I have selected 6 features to build my learning model. One of them was my new engineered feature. Without it, I have lower score in term of precision and recall. \n",
    "\n",
    "For learning model, I validated a series of common classifers. Based on my F1-score, I picked two classifiers: Naive Bayes and Decisition Tree. My final model is Naive Bayes model in which I receive the better score of precision (0.49) and recall (0.34) after parameter tuning."
   ]
  }
 ],
 "metadata": {
  "anaconda-cloud": {},
  "kernelspec": {
   "display_name": "Python [Root]",
   "language": "python",
   "name": "Python [Root]"
  },
  "language_info": {
   "codemirror_mode": {
    "name": "ipython",
    "version": 2
   },
   "file_extension": ".py",
   "mimetype": "text/x-python",
   "name": "python",
   "nbconvert_exporter": "python",
   "pygments_lexer": "ipython2",
   "version": "2.7.12"
  }
 },
 "nbformat": 4,
 "nbformat_minor": 0
}
